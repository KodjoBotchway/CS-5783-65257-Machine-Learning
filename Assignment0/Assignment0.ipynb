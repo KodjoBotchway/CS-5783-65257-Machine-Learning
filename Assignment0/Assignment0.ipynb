{
  "cells": [
    {
      "cell_type": "code",
      "execution_count": null,
      "metadata": {
        "id": "_1hJ0ciFGgon"
      },
      "outputs": [],
      "source": [
        "# import necessary packages\n",
        "import numpy as np\n",
        "import matplotlib.pyplot as plt\n",
        "import cv2\n",
        "%matplotlib inline"
      ]
    },
    {
      "cell_type": "code",
      "execution_count": null,
      "metadata": {
        "id": "MeoxeNK-Ggoq"
      },
      "outputs": [],
      "source": [
        "# read in datafile\n",
        "with open(r\"/content/test.txt\", 'r') as f:\n",
        "    datafile = f.read()"
      ]
    },
    {
      "cell_type": "code",
      "execution_count": null,
      "metadata": {
        "id": "PJfKUKInGgor"
      },
      "outputs": [],
      "source": [
        "# Q1\n",
        "def count(datafile):\n",
        "    # lower the text for the count\n",
        "    text = datafile.lower()\n",
        "    list_dict = {}\n",
        "    for word in text:\n",
        "        for letter in word:\n",
        "            if letter.isalpha():\n",
        "                if letter in list_dict.keys():\n",
        "                    list_dict[letter]+=1\n",
        "                else:\n",
        "                    list_dict[letter] = 1\n",
        "    print(\"Input: \" + datafile)\n",
        "    print(\"Output: \" + str({k:v  for k,v in sorted(list_dict.items())}))\n",
        "\n",
        "    # unnormalized barchart\n",
        "    lists = sorted(list_dict.items())\n",
        "    sorted_dict = dict(sorted(list_dict.items()))\n",
        "    x, y = zip(*lists)\n",
        "    plt.bar(x, y, color = 'g')\n",
        "    plt.title('Unnormalized Bar Chart of Letter Count By Frequency')\n",
        "    plt.xlabel('Letters')\n",
        "    plt.ylabel('Frequency')\n",
        "    plt.show()\n",
        "\n",
        "    # normalized barchart\n",
        "    total = sum(sorted_dict.values())\n",
        "    result = {key: value /total for key, value in sorted_dict.items()}\n",
        "    plt.bar(list(result.keys()),result.values(), color='g')\n",
        "    plt.title('Normalized Bar Chart of Letter Count By Frequency')\n",
        "    plt.ylabel('Frequency')\n",
        "    plt.xlabel('Letters')\n",
        "    plt.show()"
      ]
    },
    {
      "cell_type": "code",
      "execution_count": null,
      "metadata": {
        "id": "LXrVGcDpGgos"
      },
      "outputs": [],
      "source": [
        "count(datafile)"
      ]
    },
    {
      "cell_type": "code",
      "execution_count": null,
      "metadata": {
        "id": "ojnahAHuGgot"
      },
      "outputs": [],
      "source": [
        "# Q2\n",
        "img = cv2.imread('/content/test.png')\n",
        "for row in range(len(img)):\n",
        "    for col in range(len(img[row])):\n",
        "        pixel = img[row][col]\n",
        "        p = np.linalg.norm(pixel-np.array([255,0,0]))\n",
        "        q = np.linalg.norm(pixel-np.array([0,255,0]))\n",
        "        r = np.linalg.norm(pixel-np.array([0,0,255]))\n",
        "        #print(p)\n",
        "        min_pix = min([p,q,r])\n",
        "        #print(min_pix)\n",
        "        \n",
        "        if min_pix == p:\n",
        "            img[row][col] = p\n",
        "        elif min_pix == q:\n",
        "            img[row][col] = q\n",
        "        elif min_pix == r:\n",
        "            img[row][col] = r\n",
        "\n",
        "cv2.imwrite('output1.png',img)\n",
        "\n",
        "# Q2B\n",
        "img = cv2.imread('test.png')\n",
        "cv2.rectangle(img, pt1 = (39,89), pt2 = (89,39), color = (0,0,0), thickness = -1)\n",
        "cv2.imwrite('output2.png', img)"
      ]
    },
    {
      "cell_type": "code",
      "execution_count": null,
      "metadata": {
        "id": "Amf2n5bjGgou"
      },
      "outputs": [],
      "source": [
        "# Q3\n",
        "# 3 soft tacos and 3 burritos equals 11.25\n",
        "# 4 soft tacos and 2 burritos equals 10\n",
        "A = np.matrix([[3, 3], [4, 2]])\n",
        "B = np.matrix([[11.25], [10]])\n",
        "\n",
        "# solution X = A_inverse * B \n",
        "# finding the inverse of A\n",
        "A_inverse = np.linalg.inv(A)\n",
        "X = A_inverse * B\n",
        "print(X)"
      ]
    }
  ],
  "metadata": {
    "kernelspec": {
      "display_name": "Python 3.10.2 64-bit",
      "language": "python",
      "name": "python3"
    },
    "language_info": {
      "codemirror_mode": {
        "name": "ipython",
        "version": 3
      },
      "file_extension": ".py",
      "mimetype": "text/x-python",
      "name": "python",
      "nbconvert_exporter": "python",
      "pygments_lexer": "ipython3",
      "version": "3.10.2"
    },
    "orig_nbformat": 4,
    "vscode": {
      "interpreter": {
        "hash": "8c536098342e249770475e76571c08326ac21f990e5ca158aeaf10eded2866f0"
      }
    },
    "colab": {
      "provenance": [],
      "collapsed_sections": []
    }
  },
  "nbformat": 4,
  "nbformat_minor": 0
}
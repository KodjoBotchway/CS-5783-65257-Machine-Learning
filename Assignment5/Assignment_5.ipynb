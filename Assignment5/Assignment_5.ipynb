{
 "cells": [
  {
   "cell_type": "markdown",
   "metadata": {},
   "source": [
    "# Question 1"
   ]
  },
  {
   "cell_type": "markdown",
   "metadata": {},
   "source": [
    "Supposedly, we would want to build a decision tree for the data that was shown. In the data, we are asked what the initial entropy of the target variable `'Taste'`. The `'Taste'` variable has 2 distinct classes, that is `'meh'` and `'yummy'`. In 10 records, there are 5 of each in the table. The entropy is calculated as:\n",
    "\n",
    "Entropy = -5/10 * log2(5/10) - 5/10 * log2(5/10)\\\n",
    "Entropy = 1.0"
   ]
  },
  {
   "cell_type": "markdown",
   "metadata": {},
   "source": [
    "# Question 2"
   ]
  },
  {
   "cell_type": "markdown",
   "metadata": {},
   "source": [
    "Considering the variable `'Visual defects'` be chosen as the root of the tree. We would calculate the information gain in the table.\\\n",
    "For the distinct classes in `'Visual defects'`, there are 3 `'Some'`, 3 `'Many'` and 4 `'None'`. All `'Some'`s are `'Meh'`, all `'Many'`s are `'Yummy'` and `'None'`s have 2 `'Yummy'`s and 2 `'Meh'`\n",
    "\n",
    "Information = 3/10 * (-3/3log2(3/3)) + 4/10 * (-2/4log2(2/4) -2/4log2(2/4)) + 3/10 * (-3/3log2(3/3))\\\n",
    "Information = 0.4\n",
    "\n",
    "Therefore, the gain becomes 1.0 - 0.4 = 0.6"
   ]
  },
  {
   "cell_type": "markdown",
   "metadata": {},
   "source": [
    "# Question 3"
   ]
  },
  {
   "cell_type": "markdown",
   "metadata": {},
   "source": [
    "The entropy following all of these tallied numbers for the Taste considering Visual Defect for `'Some'` is given as:\\\n",
    "Entropy = -3/3log2(3/3) - 0log2(0)\\\n",
    "Entropy = 0\n",
    "\n",
    "The entropy following all of these tallied numbers for the Taste considering Visual Defect for `'None'` is given as:\\\n",
    "Entropy = -2/4log2(2/4) - 2/4log2(2/4)\\\n",
    "Entropy = -1/2 - 1/2 = 1"
   ]
  },
  {
   "cell_type": "markdown",
   "metadata": {},
   "source": [
    "# Question 4"
   ]
  },
  {
   "cell_type": "code",
   "execution_count": 2,
   "metadata": {},
   "outputs": [],
   "source": [
    "# import the necessary packages for the code\n",
    "import pandas as pd\n",
    "import numpy as np\n",
    "import matplotlib.pyplot as plt\n",
    "import cv2"
   ]
  },
  {
   "cell_type": "code",
   "execution_count": 3,
   "metadata": {},
   "outputs": [],
   "source": [
    "# read in the image for the question\n",
    "img = cv2.imread('input.png')\n",
    "img = img / 255"
   ]
  },
  {
   "cell_type": "code",
   "execution_count": 4,
   "metadata": {},
   "outputs": [],
   "source": [
    "height, width, channels = np.shape(img)"
   ]
  },
  {
   "cell_type": "code",
   "execution_count": 7,
   "metadata": {},
   "outputs": [
    {
     "data": {
      "text/plain": [
       "3"
      ]
     },
     "execution_count": 7,
     "metadata": {},
     "output_type": "execute_result"
    }
   ],
   "source": [
    "for i in width:\n",
    "    for j in height:\n",
    "        pixel = img[j][i]\n",
    "        img[j][i] = "
   ]
  }
 ],
 "metadata": {
  "kernelspec": {
   "display_name": "Python 3.10.7 64-bit",
   "language": "python",
   "name": "python3"
  },
  "language_info": {
   "codemirror_mode": {
    "name": "ipython",
    "version": 3
   },
   "file_extension": ".py",
   "mimetype": "text/x-python",
   "name": "python",
   "nbconvert_exporter": "python",
   "pygments_lexer": "ipython3",
   "version": "3.10.7"
  },
  "orig_nbformat": 4,
  "vscode": {
   "interpreter": {
    "hash": "8c536098342e249770475e76571c08326ac21f990e5ca158aeaf10eded2866f0"
   }
  }
 },
 "nbformat": 4,
 "nbformat_minor": 2
}

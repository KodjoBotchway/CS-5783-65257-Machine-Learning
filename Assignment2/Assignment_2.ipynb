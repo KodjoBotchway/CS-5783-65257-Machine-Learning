{
 "cells": [
  {
   "cell_type": "markdown",
   "metadata": {},
   "source": [
    "# Q1"
   ]
  },
  {
   "cell_type": "markdown",
   "metadata": {},
   "source": [
    "The update rule has been derived used to tain a 2-layer neural network. One hidden layer with 2 neurons and one output layer with one neuron for regression using Mean Square Error loss."
   ]
  },
  {
   "cell_type": "code",
   "execution_count": 1,
   "metadata": {},
   "outputs": [],
   "source": [
    "# import necessary packages\n",
    "import numpy as np\n",
    "import pandas as pd\n",
    "import matplotlib.pyplot as plt\n",
    "import warnings\n",
    "warnings.filterwarnings(\"ignore\")"
   ]
  },
  {
   "cell_type": "code",
   "execution_count": 2,
   "metadata": {},
   "outputs": [],
   "source": [
    "# define necessary functions for the neural network\n",
    "# functions for predictions for model accuracy\n",
    "def mserror(pred_y, y):\n",
    "    return ((pred_y - y) ** 2).sum() / (pred_y.size)\n",
    "    \n",
    "def accuracy(pred_y, y_true):\n",
    "    y_bar = np.sum(y_true)/len(y_true)\n",
    "    ssreg = np.sum((y_true - pred_y) ** 2)\n",
    "    sstot = np.sum((y_true - y_bar) ** 2)\n",
    "    acc = 1 - (ssreg / sstot)\n",
    "    return acc\n",
    "\n",
    "# set up the activation functions and derivatives for the neural network\n",
    "def sigmoid(x):\n",
    "    return 1 / (1 + np.exp(-x))\n",
    "\n",
    "def sigmoid_derivative(x):\n",
    "    return sigmoid(x) * (1 - sigmoid(x))\n",
    "\n",
    "def linear(x):\n",
    "    return x\n",
    "\n",
    "def linear_derivative(x):\n",
    "    return 1\n",
    "\n",
    "def relu(x):\n",
    "    return (np.maximum(0,x))\n",
    "\n",
    "def relu_derivative(x):\n",
    "    x[x<=0] = 0\n",
    "    x[x>0] = 1\n",
    "    return x\n",
    "\n",
    "def tanh(x):\n",
    "    return (np.exp(x) - np.exp(-x)) / (np.exp(x) + np.exp(-x))\n",
    "\n",
    "def tanh_derivative(x):\n",
    "    return 1 - (tanh(x)) ** 2\n",
    "    \n",
    "def Activation(x):\n",
    "    if function == 'Sigmoid':\n",
    "        return sigmoid(x)\n",
    "    elif function == 'Linear':\n",
    "        return linear(x)\n",
    "    elif function == 'ReLU':\n",
    "        return relu(x)\n",
    "    elif function == 'Tanh':\n",
    "        return tanh(x)\n",
    "\n",
    "def deriv_Activation(x):\n",
    "    if function == 'Sigmoid':\n",
    "        return sigmoid_derivative(x)\n",
    "    elif function == 'Linear':\n",
    "        return linear_derivative(x)\n",
    "    elif function == 'ReLU':\n",
    "        return relu_derivative(x)\n",
    "    elif function == 'Tanh':\n",
    "        return tanh_derivative(x)\n",
    "\n",
    "def backprop(W1, W2, b1, b2):\n",
    "    # feedforward propagation for the first initialization values\n",
    "    samples = y_train.size\n",
    "    \n",
    "    # hidden layer\n",
    "    Z1 = np.dot(W1, x_train.T) + b1\n",
    "    A1 = Activation(Z1)\n",
    "    # output layer\n",
    "    Z2 = np.dot(W2, A1) + b2\n",
    "    A2 = linear(Z2) # output of the neural network\n",
    "\n",
    "    for i in range(iter):\n",
    "        # backpropagation\n",
    "        # gradient computation\n",
    "        dZ2 = A2 - y_train.T\n",
    "        dW2 = np.dot(dZ2, A1.T)\n",
    "        db2 = np.sum(dZ2, axis=1) * (1/samples)\n",
    "        dZ1 = np.dot(W2.T, dZ2) * deriv_Activation(Z1)\n",
    "        dW1 = np.dot(dZ1, x_train)\n",
    "        db1 = np.sum(dZ1) * (1/samples)\n",
    "\n",
    "        # updating weights\n",
    "        W1 = W1 - dW1 * lr\n",
    "        W2 = W2 - dW2 * lr\n",
    "        b1 = b1 - db1 * lr\n",
    "        b2 = b2 - db2 * lr\n",
    "\n",
    "        Z1 = np.dot(W1, x_train.T) + b1\n",
    "        A1 = Activation(Z1)\n",
    "        Z2 = np.dot(W2, A1) + b2\n",
    "        A2 = linear(Z2)\n",
    "        \n",
    "        mse = mserror(A2.T, y_train)\n",
    "        resultsmse.append(mse)\n",
    "\n",
    "        acc = accuracy(A2.T, y_train)\n",
    "        resultsacc.append(acc)\n",
    "        \n",
    "    return W1, W2, b1, b2, A2, resultsmse, resultsacc"
   ]
  },
  {
   "cell_type": "markdown",
   "metadata": {},
   "source": [
    "This is different from the update rule for the network trained for binary classification because the output neuron has different activation function. Since the output value is for a regression, we would use a linear activation function or a ReLU activation depending on the kind of result we need. For the binary classification, we need to classify based on one of 2 classes. In the regression, we are predicting a continuous quantity."
   ]
  },
  {
   "cell_type": "markdown",
   "metadata": {},
   "source": [
    "# Q2"
   ]
  },
  {
   "cell_type": "code",
   "execution_count": 108,
   "metadata": {},
   "outputs": [],
   "source": [
    "# load in the datasets\n",
    "x_train = np.loadtxt(\"Data/X_train.csv\")\n",
    "y_train = np.loadtxt(\"Data/Y_train.csv\")\n",
    "x_test = np.loadtxt(\"Data/X_test.csv\")\n",
    "y_test = np.loadtxt(\"Data/Y_test.csv\")\n",
    "y_train = y_train.reshape(y_train.shape[0],1)\n",
    "y_test = y_test.reshape(y_test.shape[0],1)"
   ]
  },
  {
   "cell_type": "code",
   "execution_count": 109,
   "metadata": {},
   "outputs": [],
   "source": [
    "# create a new dataframe to hold the mse and accuracy values\n",
    "resultsmse = []\n",
    "resultsacc = []\n",
    "\n",
    "# enter the parameters and implement the neural network\n",
    "lr = 0.01\n",
    "iter = 1000\n",
    "neurons = 2\n",
    "function = 'Sigmoid'\n",
    "\n",
    "# set up random weights for the hidden and output layers\n",
    "# initializing weight and bias for the hidden layer since we have 2 neurons there\n",
    "W1 = np.random.rand(neurons, x_train.shape[1])\n",
    "b1 = np.random.rand(neurons, 1)\n",
    "\n",
    "# initializing weight for the output layer\n",
    "W2 = np.random.rand(1, neurons)\n",
    "b2 = np.random.rand(1, 1)\n",
    "\n",
    "# weights after the backpropagation\n",
    "W1, W2, b1, b2, A2, resultsmse, resultsacc = backprop(W1, W2, b1, b2)"
   ]
  },
  {
   "cell_type": "markdown",
   "metadata": {},
   "source": [
    "The model reaches conversion and the model brings out the final updated weights, the biases, the mean square error loss and the accuracy for the neural network."
   ]
  },
  {
   "cell_type": "markdown",
   "metadata": {},
   "source": [
    "1. The activation function that I would choose for the output layer is a linear function. Since the prediction is an estimate, I will use a linear function for the output layer. Since I cannot be sure whether we would ever want to make a prediction, I cannot use ReLU so I would use a Linear activation function so the actual value is returned."
   ]
  },
  {
   "cell_type": "markdown",
   "metadata": {},
   "source": [
    "2. There should be only one neuron in the output layer. This is because the final value is a linear estimate prediction. Since it is just one prediction we are looking for, it has to be one output neuron."
   ]
  },
  {
   "cell_type": "markdown",
   "metadata": {},
   "source": [
    "3. Report the average MSE loss and the accuracy"
   ]
  },
  {
   "cell_type": "code",
   "execution_count": 110,
   "metadata": {},
   "outputs": [
    {
     "name": "stdout",
     "output_type": "stream",
     "text": [
      "The average MSE loss of the training model is 1186.9349604553465\n",
      "The accuracy of the training model is 0.7900054615088574\n"
     ]
    }
   ],
   "source": [
    "print('The average MSE loss of the training model is {0}'.format(resultsmse[-1]))\n",
    "print('The accuracy of the training model is {0}'.format(resultsacc[-1]))"
   ]
  },
  {
   "cell_type": "markdown",
   "metadata": {},
   "source": [
    "4. Plot the average MSE loss and the accuracy as a function of the number of iterations"
   ]
  },
  {
   "cell_type": "code",
   "execution_count": 111,
   "metadata": {},
   "outputs": [
    {
     "data": {
      "image/png": "[encoded data removed]",
      "text/plain": [
       "<Figure size 432x288 with 1 Axes>"
      ]
     },
     "metadata": {
      "needs_background": "light"
     },
     "output_type": "display_data"
    },
    {
     "data": {
      "image/png": "[encoded data removed]",
      "text/plain": [
       "<Figure size 432x288 with 1 Axes>"
      ]
     },
     "metadata": {
      "needs_background": "light"
     },
     "output_type": "display_data"
    }
   ],
   "source": [
    "plt.plot(resultsmse, 'red')\n",
    "plt.ylabel('MSE Loss', fontsize=12)\n",
    "plt.xlabel('Number of Iterations', fontsize=12)\n",
    "plt.suptitle('Average Loss', fontsize=15)\n",
    "plt.show()\n",
    "\n",
    "plt.plot(resultsacc)\n",
    "plt.ylabel('Accuracy', fontsize=12)\n",
    "plt.xlabel('Number of Iterations', fontsize=12)\n",
    "plt.suptitle('Accuracy', fontsize=15)\n",
    "plt.show()"
   ]
  },
  {
   "cell_type": "markdown",
   "metadata": {},
   "source": [
    "5. The learning rate controls how quickly the model is adapted to the problem. The larger the learning rate the larger the skips in the model and hence the model might never converge. On the other hand, a way smaller learning rate would take a very very very long time for th emodel to approach the global minima."
   ]
  },
  {
   "cell_type": "code",
   "execution_count": 138,
   "metadata": {},
   "outputs": [],
   "source": [
    "# create a new dataframe to hold the mse and accuracy values\n",
    "function = 'Sigmoid'\n",
    "\n",
    "def backprop1(W1, W2, b1, b2, lr):\n",
    "    # feedforward propagation for the first initialization values\n",
    "    samples = y_train.size\n",
    "    # hidden layer\n",
    "    Z1 = np.dot(W1, x_train.T) + b1\n",
    "    A1 = Activation(Z1)\n",
    "    # output layer\n",
    "    Z2 = np.dot(W2, A1) + b2\n",
    "    A2 = linear(Z2) # output of the neural network\n",
    "    lst = []\n",
    "    lst = A2.T\n",
    "\n",
    "    for i in range(iter):\n",
    "        # backpropagation\n",
    "        # gradient computation\n",
    "        dZ2 = A2 - y_train.T\n",
    "        dW2 = np.dot(dZ2, A1.T)\n",
    "        db2 = np.sum(dZ2, axis=1) * (1/samples)\n",
    "        dZ1 = np.dot(W2.T, dZ2) * deriv_Activation(Z1)\n",
    "        dW1 = np.dot(dZ1, x_train)\n",
    "        db1 = np.sum(dZ1) * (1/samples)\n",
    "\n",
    "        # updating weights\n",
    "        W1 = W1 - dW1 * lr\n",
    "        W2 = W2 - dW2 * lr\n",
    "        b1 = b1 - db1 * lr\n",
    "        b2 = b2 - db2 * lr\n",
    "\n",
    "        Z1 = np.dot(W1, x_train.T) + b1\n",
    "        A1 = Activation(Z1)\n",
    "        Z2 = np.dot(W2, A1) + b2\n",
    "        A2 = linear(Z2)\n",
    "        \n",
    "        lst = np.hstack((lst, A2.T))\n",
    "\n",
    "    Temp= np.ones((lst.shape))\n",
    "    Temp= y_train*Temp\n",
    "    Mean_Square_Error = mserror(Temp, lst)\n",
    "    Accur = accuracy(Temp, lst)\n",
    "\n",
    "    return W1, W2, b1, b2, A2, Mean_Square_Error, Accur\n",
    "\n",
    "# enter the parameters and implement the neural network\n",
    "lr = [0.001, 0.003, 0.005, 0.008, 0.01, 0.015, 0.05, 0.1, 1]\n",
    "iter = 1000\n",
    "neurons = 2\n",
    "tempMSE = []\n",
    "tempACC = []\n",
    "\n",
    "for i in lr:\n",
    "    # set up random weights for the hidden and output layers\n",
    "    # initializing weight and bias for the hidden layer since we have 2 neurons there\n",
    "    np.random.seed(10)\n",
    "    W1 = np.random.rand(neurons, x_train.shape[1])\n",
    "    b1 = np.random.rand(neurons, 1)\n",
    "\n",
    "    # initializing weight for the output layer\n",
    "    W2 = np.random.rand(1, neurons)\n",
    "    b2 = np.random.rand(1, 1)\n",
    "    \n",
    "    W1, W2, b1, b2, A2, Mean_Square_Error, Accur = backprop1(W1, W2, b1, b2, i)\n",
    "    tempMSE.append(Mean_Square_Error)\n",
    "    tempACC.append(Accur)"
   ]
  },
  {
   "cell_type": "code",
   "execution_count": 141,
   "metadata": {},
   "outputs": [
    {
     "data": {
      "image/png": "[encoded data removed]",
      "text/plain": [
       "<Figure size 432x288 with 1 Axes>"
      ]
     },
     "metadata": {
      "needs_background": "light"
     },
     "output_type": "display_data"
    }
   ],
   "source": [
    "# Visualizing the change in average log loss with learning rate\n",
    "plt.plot(lr, tempMSE,'r')\n",
    "plt.ylabel('Average MSE', fontsize=12)\n",
    "plt.xlabel('Learning Rate', fontsize=12)\n",
    "plt.suptitle('Average MSE', fontsize=15)\n",
    "plt.show()"
   ]
  },
  {
   "cell_type": "markdown",
   "metadata": {},
   "source": [
    "The effect of the learning rate on the training  process is quite something else. Increasing the learning rate reduced the Mean Square Loss making the model more accurate. However, after a certain degree which after diffrerent iterations I tried, I realized that the model eneded up not converging. After a learning rate of about 0.15, the MSE started exploding to wilder proportions . Until I believe it got to infinity since the value that came out was nan. I tried smaller values below 0.02 and for all teh values till then the MSE loss was reducing. It could be another effect of the 1000 iterations I used but I did not look into diffrent variations of that."
   ]
  },
  {
   "cell_type": "markdown",
   "metadata": {},
   "source": [
    "6. To do this we modelled the original sequence iterating through neurons 1 to 10."
   ]
  },
  {
   "cell_type": "code",
   "execution_count": 161,
   "metadata": {},
   "outputs": [],
   "source": [
    "# create a new dataframe to hold the mse and accuracy values\n",
    "function = 'Sigmoid'\n",
    "\n",
    "def backprop2(W1, W2, b1, b2):\n",
    "    # feedforward propagation for the first initialization values\n",
    "    samples = y_train.size\n",
    "    # hidden layer\n",
    "    Z1 = np.dot(W1, x_train.T) + b1\n",
    "    A1 = Activation(Z1)\n",
    "    # output layer\n",
    "    Z2 = np.dot(W2, A1) + b2\n",
    "    A2 = linear(Z2) # output of the neural network\n",
    "    lst = []\n",
    "    lst = A2.T\n",
    "\n",
    "    for i in range(iter):\n",
    "        # backpropagation\n",
    "        # gradient computation\n",
    "        dZ2 = A2 - y_train.T\n",
    "        dW2 = np.dot(dZ2, A1.T)\n",
    "        db2 = np.sum(dZ2, axis=1) * (1/samples)\n",
    "        dZ1 = np.dot(W2.T, dZ2) * deriv_Activation(Z1)\n",
    "        dW1 = np.dot(dZ1, x_train)\n",
    "        db1 = np.sum(dZ1) * (1/samples)\n",
    "\n",
    "        # updating weights\n",
    "        W1 = W1 - dW1 * lr\n",
    "        W2 = W2 - dW2 * lr\n",
    "        b1 = b1 - db1 * lr\n",
    "        b2 = b2 - db2 * lr\n",
    "\n",
    "        Z1 = np.dot(W1, x_train.T) + b1\n",
    "        A1 = Activation(Z1)\n",
    "        Z2 = np.dot(W2, A1) + b2\n",
    "        A2 = linear(Z2)\n",
    "        \n",
    "        lst = np.hstack((lst, A2.T))\n",
    "\n",
    "    Temp= np.ones((lst.shape))\n",
    "    Temp= y_train*Temp\n",
    "    Mean_Square_Error = mserror(Temp, lst)\n",
    "    Accur = accuracy(Temp, lst)\n",
    "\n",
    "    return W1, W2, b1, b2, A2, Mean_Square_Error, Accur\n",
    "\n",
    "# enter the parameters and implement the neural network\n",
    "lr = 0.01\n",
    "iter = 1000\n",
    "neurons = 11\n",
    "tempMSE = []\n",
    "tempACC = []\n",
    "\n",
    "for i in range(1, neurons):\n",
    "    # set up random weights for the hidden and output layers\n",
    "    # initializing weight and bias for the hidden layer since we have 2 neurons there\n",
    "    np.random.seed(10)\n",
    "    W1 = np.random.rand(i, x_train.shape[1])\n",
    "    b1 = np.random.rand(i, 1)\n",
    "\n",
    "    # initializing weight for the output layer\n",
    "    W2 = np.random.rand(1, i)\n",
    "    b2 = np.random.rand(1, 1)\n",
    "    \n",
    "    W1, W2, b1, b2, A2, Mean_Square_Error, Accur = backprop2(W1, W2, b1, b2)\n",
    "    tempMSE.append(Mean_Square_Error)\n",
    "    tempACC.append(Accur)\n",
    "\n",
    "Xaxis= np.arange(1,len(tempMSE)+1,1)"
   ]
  },
  {
   "cell_type": "code",
   "execution_count": 169,
   "metadata": {},
   "outputs": [
    {
     "data": {
      "image/png": "[encoded data removed]",
      "text/plain": [
       "<Figure size 432x288 with 1 Axes>"
      ]
     },
     "metadata": {
      "needs_background": "light"
     },
     "output_type": "display_data"
    }
   ],
   "source": [
    "# Visualizing the change in Mean Square Error with number of neurons\n",
    "plt.plot(Xaxis,tempMSE, 'ro')\n",
    "plt.ylabel('Mean Square Error', fontsize=12)\n",
    "plt.xlabel('No of neurons', fontsize=12)\n",
    "plt.suptitle('Mean Square Error', fontsize=15)\n",
    "plt.show()"
   ]
  },
  {
   "cell_type": "code",
   "execution_count": 170,
   "metadata": {},
   "outputs": [
    {
     "data": {
      "image/png": "[encoded data removed]",
      "text/plain": [
       "<Figure size 432x288 with 1 Axes>"
      ]
     },
     "metadata": {
      "needs_background": "light"
     },
     "output_type": "display_data"
    }
   ],
   "source": [
    "# Visualizing the true labels against the predicted labels for the final neuron iteration\n",
    "plt.plot(A2.T, y_train, 'bo')\n",
    "plt.ylabel('True Labels', fontsize=12)\n",
    "plt.xlabel('Predicted Labels', fontsize=12)\n",
    "plt.suptitle('Plot of predicted vs true values', fontsize=15)\n",
    "plt.show()"
   ]
  },
  {
   "cell_type": "markdown",
   "metadata": {},
   "source": [
    "a. The update rule does not need to be changed or derived again since the number of neurons does not affect the activation function and the derivation of it in the neural network. The only thing that changes is that the number of neurons using that activation function change. Everything else reamins the same."
   ]
  },
  {
   "cell_type": "markdown",
   "metadata": {},
   "source": [
    "b. From the chart showing the changing neurons, it is evident that for the model, increasing the neurons in the model reduces the error in the model. I believe this exists because the increase in the neurons helps to create more features for the data hence helping the model to model more variability in the data leading to lower Mean Square Error."
   ]
  },
  {
   "cell_type": "markdown",
   "metadata": {},
   "source": [
    "7. Exploring 2 different activation functions, tanh"
   ]
  },
  {
   "cell_type": "code",
   "execution_count": 9,
   "metadata": {},
   "outputs": [],
   "source": [
    "# Tanh activation function\n",
    "# create a new dataframe to hold the mse and accuracy values\n",
    "resultsmse = []\n",
    "resultsacc = []\n",
    "\n",
    "# enter the parameters and implement the neural network\n",
    "lr = 0.01\n",
    "iter = 1000\n",
    "neurons = 2\n",
    "function = 'Tanh'\n",
    "\n",
    "# set up random weights for the hidden and output layers\n",
    "# initializing weight and bias for the hidden layer since we have 2 neurons there\n",
    "W1 = np.random.rand(neurons, x_train.shape[1])\n",
    "b1 = np.random.rand(neurons, 1)\n",
    "\n",
    "# initializing weight for the output layer\n",
    "W2 = np.random.rand(1, neurons)\n",
    "b2 = np.random.rand(1, 1)\n",
    "\n",
    "# weights after the backpropagation\n",
    "tanhW1, tanhW2, tanhb1, tanhb2, tanhA2, tanhresultsmse, tanhresultsacc = backprop(W1, W2, b1, b2)"
   ]
  },
  {
   "cell_type": "code",
   "execution_count": 10,
   "metadata": {},
   "outputs": [],
   "source": [
    "# Linear activation function\n",
    "# create a new dataframe to hold the mse and accuracy values\n",
    "resultsmse = []\n",
    "resultsacc = []\n",
    "\n",
    "# enter the parameters and implement the neural network\n",
    "lr = 0.01\n",
    "iter = 1000\n",
    "neurons = 2\n",
    "function = 'Linear'\n",
    "\n",
    "# set up random weights for the hidden and output layers\n",
    "# initializing weight and bias for the hidden layer since we have 2 neurons there\n",
    "W1 = np.random.rand(neurons, x_train.shape[1])\n",
    "b1 = np.random.rand(neurons, 1)\n",
    "\n",
    "# initializing weight for the output layer\n",
    "W2 = np.random.rand(1, neurons)\n",
    "b2 = np.random.rand(1, 1)\n",
    "\n",
    "# weights after the backpropagation\n",
    "linW1, linW2, linb1, linb2, linA2, linresultsmse, linresultsacc = backprop(W1, W2, b1, b2)"
   ]
  },
  {
   "cell_type": "markdown",
   "metadata": {},
   "source": [
    "a. Yes, I would need to change the update rule because since we are changing the activation function, the derivative will also change."
   ]
  },
  {
   "cell_type": "markdown",
   "metadata": {},
   "source": [
    "b. The change we will need to achieve this is to change teh function for the activation function and change the derivative in the update rule equations."
   ]
  },
  {
   "cell_type": "markdown",
   "metadata": {},
   "source": [
    "c. Report the observations by reporting the final loss and plotting the true labels against predicted labels."
   ]
  },
  {
   "cell_type": "code",
   "execution_count": 11,
   "metadata": {},
   "outputs": [
    {
     "name": "stdout",
     "output_type": "stream",
     "text": [
      "The average MSE loss of the tanh training model is 1345.598318089821\n",
      "The average MSE loss of the linear training model is nan\n"
     ]
    }
   ],
   "source": [
    "print('The average MSE loss of the tanh training model is {0}'.format(tanhresultsmse[-1]))\n",
    "print('The average MSE loss of the linear training model is {0}'.format(linresultsmse[-1]))"
   ]
  },
  {
   "cell_type": "code",
   "execution_count": 171,
   "metadata": {},
   "outputs": [
    {
     "data": {
      "image/png": "[encoded data removed]",
      "text/plain": [
       "<Figure size 432x288 with 1 Axes>"
      ]
     },
     "metadata": {
      "needs_background": "light"
     },
     "output_type": "display_data"
    },
    {
     "data": {
      "image/png": "[encoded data removed]",
      "text/plain": [
       "<Figure size 432x288 with 1 Axes>"
      ]
     },
     "metadata": {
      "needs_background": "light"
     },
     "output_type": "display_data"
    }
   ],
   "source": [
    "plt.plot(tanhA2.T, y_train, 'bo')\n",
    "plt.ylabel('True Labels', fontsize=12)\n",
    "plt.xlabel('Predicted Labels', fontsize=12)\n",
    "plt.suptitle('Plot of predicted vs true values for Tanh ActFunction', fontsize=15)\n",
    "plt.show()\n",
    "\n",
    "plt.plot(linA2.T, y_train, 'bo')\n",
    "plt.ylabel('True Labels', fontsize=12)\n",
    "plt.xlabel('Predicted Labels', fontsize=12)\n",
    "plt.suptitle('Plot of predicted vs true values for Linear ActFunction', fontsize=15)\n",
    "plt.show()"
   ]
  },
  {
   "cell_type": "markdown",
   "metadata": {},
   "source": [
    "The tested activation functions were sigmoid, tanh and linear functions. The sigmoid and the tanh worked on the modelling the data with good mean square error loss. On the other hand, the linear function performed very poorly and the results were bad. I believe since the linear function did not have limits for the activation function, what probably happened was an exploding gradient problem. The computational error obtained could also be that linear model could not properly capture the non-linearity in the model."
   ]
  }
 ],
 "metadata": {
  "kernelspec": {
   "display_name": "Python 3.10.7 64-bit",
   "language": "python",
   "name": "python3"
  },
  "language_info": {
   "codemirror_mode": {
    "name": "ipython",
    "version": 3
   },
   "file_extension": ".py",
   "mimetype": "text/x-python",
   "name": "python",
   "nbconvert_exporter": "python",
   "pygments_lexer": "ipython3",
   "version": "3.10.7"
  },
  "orig_nbformat": 4,
  "vscode": {
   "interpreter": {
    "hash": "8c536098342e249770475e76571c08326ac21f990e5ca158aeaf10eded2866f0"
   }
  }
 },
 "nbformat": 4,
 "nbformat_minor": 2
}
